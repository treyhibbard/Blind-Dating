{
 "cells": [
  {
   "cell_type": "markdown",
   "metadata": {},
   "source": [
    "# Blind Dating Analysis\n",
    "\n",
    "File to process and analyze the data from the Blind Dating event.\n",
    "\n",
    "The main goal is to determine which questions where useful in predicting a good date\n",
    "based on a number of different outcomes.\n",
    "\n",
    "Although \"dating\" might be the ideal outcome, seeing if people found compatability or\n",
    "a new friend through the process should also be considered a success as the questions\n",
    "largely asked about personality compatability.\n",
    "\n",
    "Any findings should be considered in determining which questions to change, add, and remove."
   ]
  },
  {
   "cell_type": "code",
   "execution_count": 2,
   "metadata": {},
   "outputs": [],
   "source": [
    "# Importing neccesary packages\n",
    "\n",
    "import pandas as pd\n",
    "import numpy as np\n",
    "import matplotlib.pyplot as plt\n",
    "import seaborn as sns"
   ]
  },
  {
   "cell_type": "code",
   "execution_count": 3,
   "metadata": {},
   "outputs": [],
   "source": [
    "# Importing the datasets\n",
    "\n",
    "dfPre = pd.read_csv(\"response.csv\")\n",
    "dfPost = pd.read_csv(\"postResponse.csv\")"
   ]
  },
  {
   "cell_type": "markdown",
   "metadata": {},
   "source": [
    "Due to poor planning in the early part of this project, an unideal approach needed to be made regarding receiving questions in the code. Direct indexing is used. The reason the response.csv file has so many blank spaces that aren't just cleared is because it would mess up the indexing process. After this step, everything else follows more naturally."
   ]
  },
  {
   "cell_type": "code",
   "execution_count": 56,
   "metadata": {},
   "outputs": [],
   "source": [
    "# Creating dictionaries to map question numbers to their names\n",
    "# Responses are formatted as Self vs. Want\n",
    "# Negative signs (i.e. -58) do not mean a negative index, but rather a polarity flip\n",
    "questionNames = {\n",
    "    # Emotion\n",
    "    \"Q1\": \"Cries often VS. Uncofmortable consoling the unwell\", # Indices 59 VS. -58\n",
    "    \"Q2\": \"Tend to be anxious VS. Values self esteem in someone\", # Indices 62 VS. -64\n",
    "    \"Q3\": \"Clearly articulate feelings VS. Clearly articulate feelings\", # Indices 50 VS. 50\n",
    "    \"Q4\": \"Unable to act / trapped in thoughts VS. Unable to act / trapped in thoughts\", # Indices 49 VS. 49\n",
    "    \"Q5\": \"Not embarrassed by others VS. Not embarrassed by others\", # Indices 53 VS. 53\n",
    "    # Conflict\n",
    "    \"Q6\": \"Shut down when yelled at VS. Heated easily\", # Indices 54 VS. -55\n",
    "    \"Q7\": \"Seek to resolve conflict VS. Sweep issues under the rug\", # Indices 56 VS. -57\n",
    "    \"Q8\": \"Having fun more important than winning VS. Having fun more important than winning\", # Indices 60 VS. 60\n",
    "    \"Q9\": \"Persuaded more by something emotionally VS. Pursuaded more by something emotionally\", # Indices 65 VS. 65\n",
    "    \"Q10\": \"Easy to say sorry VS. Easy to say sorry\", # Indices 63 VS. 63\n",
    "    # Extraversion\n",
    "    \"Q11\": \"Talk to strangers VS. Likes outgoing people\", # Indices 32 VS. 33\n",
    "    \"Q12\": \"Is center of attention VS. Likes quieter personality\", # Indices 36 VS. -39\n",
    "    \"Q13\": \"Burdened by initiating convrersation VS. Tends to initiate\", # Indices 37 VS. 38\n",
    "    \"Q14\": \"Prefers to be by themselves VS. Prefers to be by themselves\", # Indices 40 VS. 40\n",
    "    \"Q15\": \"Drained at big parties VS. Drained at big parties\", # Indices 41 VS. 41\n",
    "    \"Q16\": \"Uncomfortable in noisy place VS. Uncomfortable in noisy place\", # Indices 42 VS. 42\n",
    "    # Lifestyle\n",
    "    \"Q17\": \"Seek out new experiences VS. Seek out new experiences\", # Indices 34 VS. 34\n",
    "    \"Q18\": \"Love to be in nature VS. Love to be in nature\", # Indices 35 VS. 35\n",
    "    \"Q19\": \"Bedroom is clean and tidy VS. Messy space is aggravating\", # Indices 46 VS. -45\n",
    "    \"Q20\": \"Enjoys a structured schedule VS. Enjoys a structured schedule\", # Indices 47 VS. 47\n",
    "    \"Q21\": \"Adjusts qick to last minute changes VS. Adjusts qick to last minute changes\", # Indices 48 VS. 48\n",
    "    \"Q22\": \"Enjoy serving others VS. Enjoy serving others\", # Indices 75 VS. 75\n",
    "    \"Q23\": \"Bothered if personally not on time or early VS. Often late\", # Indices 74 VS. -88\n",
    "    \"Q24\": \"Worry about the future VS. Worry about the future\", # Indices 44 VS. 44\n",
    "    \"Q25\": \"Social life over work VS. Social life over work\", # Indices 43 VS. 43\n",
    "    # Communication\n",
    "    \"Q26\": \"Reserved with emotions VS. Reserved with emotions\", # Indices 51 VS. 51\n",
    "    \"Q27\": \"Speak without thinking VS. Speak without thinking\", # Indices 52 VS. 52\n",
    "    \"Q28\": \"Okay lying to spare feelings VS. Okay lying to spare feelings\", # Indices 61 VS. 61\n",
    "    \"Q29\": \"Great value in gift-giving VS. Not much value in receiving gifts\", # Indices 76 VS. -77\n",
    "    \"Q30\": \"Texting over calls VS. Texting over calls\", # Indices 72 VS. 72\n",
    "    \"Q31\": \"Express verbal appreciation to partner VS. Important to be complimented\", # Indices 78 VS. 79\n",
    "    # Partner Interaction\n",
    "    \"Q32\": \"Want to act like a couple in public VS. Want to act like a couple in public\", # Indices 66 VS. 66\n",
    "    \"Q33\": \"Tend to be very affectionate VS. Tend to be very affectionate\", # Indices 67 VS. 67\n",
    "    \"Q34\": \"Importance on small physical gestures VS. Importance on small physical gestures\", # Indices 68 VS. 68\n",
    "    \"Q35\": \"Desire a partner who is playful VS. Desire a partner who is playful\", # Indices 69 VS. 69\n",
    "    \"Q36\": \"Don't like getting physical quick VS. Don't like getting physical quick\", # Indices 70 VS. 70\n",
    "    \"Q37\": \"Partner time more important than friend time VS. Partner time more important than friend time\", # Indices 73 VS. 73\n",
    "    # Partner Interaction\n",
    "    \"Q38\": \"Slapstick [Humor]\", # Indices 104 VS. 104\n",
    "    \"Q39\": \"Sarcasm [Humor]\", # Indices 105 VS. 105\n",
    "    \"Q40\": \"Dark Humor [Humor]\", # Indices 106 VS. 106\n",
    "    \"Q41\": \"Self-Deprecating [Humor]\", # Indices 107 VS. 107\n",
    "    \"Q42\": \"Wordplay/Puns [Humor]\", # Indices 108 VS. 108\n",
    "    \"Q43\": \"Satire [Humor]\", # Indices 109 VS. 109\n",
    "    \"Q44\": \"Deadpan [Humor]\", # Indices 110 VS. 110\n",
    "    \"Q45\": \"Observational Humor [Humor]\", # Indices 111 VS. 111\n",
    "    \"Q46\": \"Absurdist/Nonsensical [Humor]\", # Indices 112 VS. 112\n",
    "    \"Q47\": \"Parody [Humor]\", # Indices 113 VS. 113\n",
    "    \"Q48\": \"Impressions [Humor]\", # Indices 114 VS. 114\n",
    "    \"Q49\": \"Bits [Humor]\", # Indices 115 VS. 115\n",
    "    \"Q50\": \"Witty Banter [Humor]\", # Indices 116 VS. 116\n",
    "    \"Q51\": \"BOTTOM TEXT [Humor]\", # Indices 117 VS. 117\n",
    "    \"Q52\": \"*nuzzles you* [Humor]\", # Indices 118 VS. 118\n",
    "    \"Q53\": \"Brain Rot [Humor]\", # Indices 119 VS. 119\n",
    "    \"Q54\": \"How many booms do you give this survey [Question]\", # Indices 120 VS. 120\n",
    "    \"Q55\": \"Does LOUD equal funny? [Humor]\", # Indices 121 VS. 121\n",
    "    \"Q56\": \"Very long jokes with bad punchlines [Humor]\", # Indices 122 VS. 122\n",
    "    \"Q57\": \"Dad Jokes [Humor]\", # Indices 123 VS. 123\n",
    "    \"Q58\": \"Sexual Innuendo [Humor]\", # Indices 124 VS. 124\n",
    "    \"Q59\": \"Situational Comedy [Humor]\", # Indices 125 VS. 125\n",
    "    \"Q60\": \"Meta Humor [Humor]\", # Indices 126 VS. 126\n",
    "}"
   ]
  },
  {
   "cell_type": "code",
   "execution_count": 132,
   "metadata": {},
   "outputs": [
    {
     "name": "stdout",
     "output_type": "stream",
     "text": [
      "Meta Humor \n",
      "Jokes about jokes, self-aware comedy\n",
      "Where do you stand politically.\n"
     ]
    }
   ],
   "source": [
    "# Print the header\n",
    "\n",
    "print(dfPre.columns[126])\n",
    "print(dfPre.columns[127])"
   ]
  }
 ],
 "metadata": {
  "kernelspec": {
   "display_name": "Python 3",
   "language": "python",
   "name": "python3"
  },
  "language_info": {
   "codemirror_mode": {
    "name": "ipython",
    "version": 3
   },
   "file_extension": ".py",
   "mimetype": "text/x-python",
   "name": "python",
   "nbconvert_exporter": "python",
   "pygments_lexer": "ipython3",
   "version": "3.12.6"
  }
 },
 "nbformat": 4,
 "nbformat_minor": 2
}
